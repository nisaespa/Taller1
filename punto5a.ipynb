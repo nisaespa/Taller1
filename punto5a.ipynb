{
 "cells": [
  {
   "cell_type": "code",
   "execution_count": null,
   "metadata": {},
   "outputs": [],
   "source": [
    "n = float(input(\"ingrese un numero real: \"))\n",
    "a = float(input(\"ingrese un numero real: \"))\n",
    "b = float(input(\"ingrese un numero real: \"))\n",
    "\n",
    "if (n + a) > b:\n",
    "    print(\" la suma de los dos primeros es > b\")\n",
    "elif(n + a) < b:\n",
    "    print(\" la suma de los dos primeros es < b\")     \n",
    "else:\n",
    "    print(\" la suma de los dos primeros es = b\")"
   ]
  }
 ],
 "metadata": {
  "language_info": {
   "name": "python"
  },
  "orig_nbformat": 4
 },
 "nbformat": 4,
 "nbformat_minor": 2
}

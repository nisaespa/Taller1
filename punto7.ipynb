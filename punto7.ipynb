{
 "cells": [
  {
   "cell_type": "code",
   "execution_count": null,
   "metadata": {},
   "outputs": [],
   "source": [
    "a = float(input(\"ingrese un numero real: \"))\n",
    "b = float(input(\"ingrese un numero real: \"))\n",
    "c = float(input(\"ingrese un numero real: \"))\n",
    "d = float(input(\"ingrese un numero real: \"))\n",
    "e = float(input(\"ingrese un numero real: \"))\n",
    "\n",
    "f = (a+b+c+d+e)/ 5 \n",
    "numeros = [a,b,c,d,e]\n",
    "numeros.sort()\n",
    "\n",
    "m = numeros[len(numeros)//2]\n",
    "\n",
    "pm = (a*b*c*d*e)**0.5\n",
    "lista_ordenada = sorted(numeros, reverse=True)\n",
    "\n",
    "mayor = max(numeros)\n",
    "menor = min(numeros)\n",
    "pot = mayor**menor\n",
    "\n",
    "raizc = (menor**0.33)\n",
    "print(f\"El promedio de los números es: {f}\")\n",
    "print(f\"La mediana de los números es: {m}\")\n",
    "print(f\"El promedio multiplicativo es: {pm}\")\n",
    "print(f\"La lista de numeros ordenados de menor a mayor es: {numeros}\")\n",
    "print(f\"La lista de numeros ordenados de mayor a menor es {lista_ordenada}\")\n",
    "print(f\"La potencia del mayor numero elevado al menor es: {pot}\")\n",
    "print(f\"La raiz cubica del menor numero es: {raizc}\")"
   ]
  }
 ],
 "metadata": {
  "language_info": {
   "name": "python"
  },
  "orig_nbformat": 4
 },
 "nbformat": 4,
 "nbformat_minor": 2
}

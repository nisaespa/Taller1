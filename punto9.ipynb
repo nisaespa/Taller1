{
 "cells": [
  {
   "cell_type": "code",
   "execution_count": 11,
   "metadata": {},
   "outputs": [
    {
     "name": "stdout",
     "output_type": "stream",
     "text": [
      "País no identificado\n"
     ]
    }
   ],
   "source": [
    "pais = input(\"Ingresa el nombre de un país de América en minúsculas: \")\n",
    "pais = pais.lower()\n",
    "if pais == \"argentina\":\n",
    "    print(\"Buenos Aires\")\n",
    "elif pais == \"bolivia\":\n",
    "\n",
    "    print(\"La Paz\")\n",
    "elif pais == \"brasil\":\n",
    "    print(\"Brasilia\")\n",
    "elif pais == \"canadá\":\n",
    "    print(\"Ottawa\")\n",
    "elif pais == \"chile\":\n",
    "    print(\"Santiago\")\n",
    "elif pais == \"colombia\":\n",
    "    print(\"Bogotá\")\n",
    "elif pais == \"costa rica\":\n",
    "    print(\"San José\")\n",
    "elif pais == \"cuba\":\n",
    "    print(\"La Habana\")\n",
    "elif pais == \"ecuador\":\n",
    "    print(\"Quito\")\n",
    "elif pais == \"el salvador\":\n",
    "    print(\"San Salvador\")\n",
    "elif pais == \"estados unidos\" or pais == \"eeuu\":\n",
    "    print(\"Washington, D.C.\")\n",
    "elif pais == \"guatemala\":\n",
    "    print(\"Ciudad de Guatemala\")\n",
    "elif pais == \"honduras\":\n",
    "    print(\"Tegucigalpa\")\n",
    "elif pais == \"jamaica\":\n",
    "    print(\"Kingston\")\n",
    "elif pais == \"méxico\":\n",
    "    print(\"Ciudad de México\")\n",
    "elif pais == \"nicaragua\":\n",
    "    print(\"Managua\")\n",
    "elif pais == \"panamá\":\n",
    "    print(\"Ciudad de Panamá\")\n",
    "elif pais == \"paraguay\":\n",
    "    print(\"Asunción\")\n",
    "elif pais == \"perú\":\n",
    "    print(\"Lima\")\n",
    "elif pais == \"república dominicana\":\n",
    "    print(\"Santo Domingo\")\n",
    "elif pais == \"uruguay\":\n",
    "    print(\"Montevideo\")\n",
    "elif pais == \"venezuela\":\n",
    "    print(\"Caracas\")\n",
    "elif pais == \"antigua y barbuda\":\n",
    "    print(\"Saint John's\")\n",
    "elif pais == \"bahamas\":\n",
    "    print(\"Nassau\")\n",
    "elif pais == \"barbados\":\n",
    "    print(\"Bridgetown\")\n",
    "elif pais == \"belice\":\n",
    "    print(\"Belmopán\")\n",
    "elif pais == \"dominica\":\n",
    "    print(\"Roseau\")\n",
    "elif pais == \"granada\":\n",
    "    print(\"St. George's\")\n",
    "elif pais == \"haití\":\n",
    "    print(\"Puerto Príncipe\")\n",
    "elif pais == \"saint kitts y nevis\" or pais == \"san kitts y nevis\":\n",
    "    print(\"Basseterre\")\n",
    "elif pais == \"santa lucía\":\n",
    "    print(\"Castries\")\n",
    "elif pais == \"san vicente y las granadinas\":\n",
    "    print(\"Kingstown\")\n",
    "else:\n",
    "    print(\"País no identificado\")\n"
   ]
  }
 ],
 "metadata": {
  "kernelspec": {
   "display_name": "Python 3",
   "language": "python",
   "name": "python3"
  },
  "language_info": {
   "codemirror_mode": {
    "name": "ipython",
    "version": 3
   },
   "file_extension": ".py",
   "mimetype": "text/x-python",
   "name": "python",
   "nbconvert_exporter": "python",
   "pygments_lexer": "ipython3",
   "version": "3.11.4"
  },
  "orig_nbformat": 4
 },
 "nbformat": 4,
 "nbformat_minor": 2
}
